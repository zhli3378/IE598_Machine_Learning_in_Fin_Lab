{
 "cells": [
  {
   "cell_type": "markdown",
   "metadata": {},
   "source": [
    "# Zhenlong Li (zl51)\n",
    "## IE598 MLF F18\n",
    "### Module 7 Homework (Random Forest)"
   ]
  },
  {
   "cell_type": "code",
   "execution_count": 1,
   "metadata": {},
   "outputs": [],
   "source": [
    "import pandas as pd\n",
    "import numpy as np\n",
    "import matplotlib.pyplot as plt\n",
    "from sklearn.ensemble import RandomForestClassifier\n",
    "from sklearn.model_selection import train_test_split\n",
    "from sklearn.model_selection import GridSearchCV\n",
    "from sklearn.model_selection import cross_val_score"
   ]
  },
  {
   "cell_type": "markdown",
   "metadata": {},
   "source": [
    "Using Wine dataset (from Chapter 4), 10% test set holdout and 10 fold cross validation"
   ]
  },
  {
   "cell_type": "code",
   "execution_count": 2,
   "metadata": {},
   "outputs": [],
   "source": [
    "df_wine = pd.read_csv('https://archive.ics.uci.edu/' 'ml/machine-learning-databases/' 'wine/wine.data', header=None)\n",
    "df_wine.columns = ['Class label',\n",
    "                   'Alcohol',\n",
    "                   'Malic acid',\n",
    "                   'Ash',\n",
    "                   'Alcalinity of ash',\n",
    "                   'Magnesium',\n",
    "                   'Total phenols',\n",
    "                   'Flavanoids',\n",
    "                   'Nonflavanoid phenols',\n",
    "                   'Proanthocyanins',\n",
    "                   'Color intensity',\n",
    "                   'Hue',\n",
    "                   'OD280/OD315 of diluted wines',\n",
    "                   'Proline']\n",
    "\n",
    "#print('Class labels', np.unique(df_wine['Class label']))\n",
    "\n",
    "#df_wine.head()\n",
    "\n",
    "X, y = df_wine.iloc[:, 1:].values, df_wine.iloc[:, 0].values\n",
    "\n",
    "X_train, X_test, y_train, y_test = \\\n",
    "    train_test_split(X, y, test_size=0.1, random_state=0, stratify=y)"
   ]
  },
  {
   "cell_type": "markdown",
   "metadata": {},
   "source": [
    "## Part 1: Random forest estimators"
   ]
  },
  {
   "cell_type": "markdown",
   "metadata": {},
   "source": [
    "Fit a random forest model with several different values for N_estimators and report in-sample/out-of-sample accuracies. "
   ]
  },
  {
   "cell_type": "code",
   "execution_count": 3,
   "metadata": {},
   "outputs": [
    {
     "name": "stdout",
     "output_type": "stream",
     "text": [
      "Tuned Logistic Regression Parameters: {'n_estimators': 500}\n",
      "Best score is 0.98125\n"
     ]
    }
   ],
   "source": [
    "n_range = [25, 100, 500, 1000, 5000, 10000]\n",
    "param_grid = {'n_estimators': n_range}\n",
    "\n",
    "rfr = RandomForestClassifier()\n",
    "\n",
    "rfr_cv = GridSearchCV(rfr, param_grid, cv=10)\n",
    "\n",
    "rfr_cv.fit(X_train, y_train)\n",
    "\n",
    "print(\"Tuned Logistic Regression Parameters: {}\".format(rfr_cv.best_params_)) \n",
    "print(\"Best score is {}\".format(rfr_cv.best_score_))"
   ]
  },
  {
   "cell_type": "code",
   "execution_count": 4,
   "metadata": {},
   "outputs": [
    {
     "name": "stdout",
     "output_type": "stream",
     "text": [
      "N_estimators [25, 100, 500, 1000, 5000, 10000]\n",
      "in-sample CV accuracy [1. 1. 1. 1. 1. 1.]\n",
      "out-of-sample CV accuracy [0.975   0.975   0.98125 0.975   0.975   0.975  ]\n"
     ]
    },
    {
     "name": "stderr",
     "output_type": "stream",
     "text": [
      "/Users/AdrianLee/anaconda3/lib/python3.6/site-packages/sklearn/utils/deprecation.py:122: FutureWarning: You are accessing a training score ('mean_train_score'), which will not be available by default any more in 0.21. If you need training scores, please set return_train_score=True\n",
      "  warnings.warn(*warn_args, **warn_kwargs)\n"
     ]
    }
   ],
   "source": [
    "print(\"N_estimators\", n_range)\n",
    "print(\"in-sample CV accuracy\", rfr_cv.cv_results_[\"mean_train_score\"])\n",
    "print(\"out-of-sample CV accuracy\", rfr_cv.cv_results_[\"mean_test_score\"])"
   ]
  },
  {
   "cell_type": "markdown",
   "metadata": {},
   "source": [
    "## Part 2: Random forest feature importance"
   ]
  },
  {
   "cell_type": "markdown",
   "metadata": {},
   "source": [
    "Display the individual feature importance of your best model in Part 1 above using the code presented in Chapter 4 on page 136. {importances=forest.feature_importances_ }"
   ]
  },
  {
   "cell_type": "code",
   "execution_count": 5,
   "metadata": {},
   "outputs": [
    {
     "name": "stdout",
     "output_type": "stream",
     "text": [
      " 1) Proline                        0.175870\n",
      " 2) Color intensity                0.154388\n",
      " 3) Flavanoids                     0.150001\n",
      " 4) Alcohol                        0.132313\n",
      " 5) OD280/OD315 of diluted wines   0.111566\n",
      " 6) Hue                            0.078855\n",
      " 7) Total phenols                  0.059936\n",
      " 8) Magnesium                      0.030753\n",
      " 9) Alcalinity of ash              0.029084\n",
      "10) Malic acid                     0.027351\n",
      "11) Proanthocyanins                0.024695\n",
      "12) Ash                            0.013434\n",
      "13) Nonflavanoid phenols           0.011753\n"
     ]
    },
    {
     "data": {
      "image/png": "[encoded data removed]",
      "text/plain": [
       "<Figure size 432x288 with 1 Axes>"
      ]
     },
     "metadata": {
      "needs_background": "light"
     },
     "output_type": "display_data"
    }
   ],
   "source": [
    "feat_labels = df_wine.columns[1:]\n",
    "\n",
    "forest = RandomForestClassifier(n_estimators=500,\n",
    "                                random_state=1)\n",
    "\n",
    "forest.fit(X_train, y_train)\n",
    "importances = forest.feature_importances_\n",
    "\n",
    "indices = np.argsort(importances)[::-1]\n",
    "\n",
    "for f in range(X_train.shape[1]):\n",
    "    print(\"%2d) %-*s %f\" % (f + 1, 30, \n",
    "                            feat_labels[indices[f]], \n",
    "                            importances[indices[f]]))\n",
    "\n",
    "plt.title('Feature Importance')\n",
    "plt.bar(range(X_train.shape[1]), \n",
    "        importances[indices],\n",
    "        align='center')\n",
    "\n",
    "plt.xticks(range(X_train.shape[1]), \n",
    "           feat_labels[indices], rotation=90)\n",
    "plt.xlim([-1, X_train.shape[1]])\n",
    "plt.tight_layout()\n",
    "plt.show()"
   ]
  },
  {
   "cell_type": "code",
   "execution_count": 6,
   "metadata": {},
   "outputs": [
    {
     "name": "stdout",
     "output_type": "stream",
     "text": [
      "My name is Zhenlong Li\n",
      "My NetID is: zl51\n",
      "I hereby certify that I have read the University policy on Academic Integrity and that I am not in violation.\n"
     ]
    }
   ],
   "source": [
    "print(\"My name is Zhenlong Li\")\n",
    "print(\"My NetID is: zl51\")\n",
    "print(\"I hereby certify that I have read the University policy on Academic Integrity and that I am not in violation.\")"
   ]
  },
  {
   "cell_type": "markdown",
   "metadata": {},
   "source": [
    "## Part 3: Conclusions"
   ]
  },
  {
   "cell_type": "markdown",
   "metadata": {},
   "source": [
    "Write a short paragraph summarizing your findings. What is the relationship between n_estimators, in-sample CV accuracy and computation time?  What is the optimal number of estimators for your forest?  Which features contribute the most importance in your model according to scikit-learn function?  What is feature importance and how is it calculated?  (If you are not sure, refer to the Scikit-Learn.org documentation.)"
   ]
  },
  {
   "cell_type": "markdown",
   "metadata": {},
   "source": [
    "The more n_estimators we set, the more computation time we will have to wait and the more accurate CV score we will have. The optimal number of estimators is 500 and \"Proline\" contribute the most importance in my model.\n",
    "According to Scikit-Learn.org documentation, the relative rank (i.e. depth) of a feature used as a decision node in a tree can be used to assess the relative importance of that feature with respect to the predictability of the target variable. The importance of a feature is computed as the (normalized) total reduction of the criterion brought by that feature. It is also known as the Gini importance."
   ]
  },
  {
   "cell_type": "markdown",
   "metadata": {},
   "source": [
    "## Part 4: Appendix"
   ]
  },
  {
   "cell_type": "markdown",
   "metadata": {},
   "source": [
    "Link to github repo:\n",
    "    https://github.com/zhli3378/IE598_Machine_Learning_in_Fin_Lab/blob/master/IE598_F18_HW7/IE598_F18_HW7.ipynb"
   ]
  },
  {
   "cell_type": "code",
   "execution_count": null,
   "metadata": {},
   "outputs": [],
   "source": []
  }
 ],
 "metadata": {
  "kernelspec": {
   "display_name": "Python 3",
   "language": "python",
   "name": "python3"
  },
  "language_info": {
   "codemirror_mode": {
    "name": "ipython",
    "version": 3
   },
   "file_extension": ".py",
   "mimetype": "text/x-python",
   "name": "python",
   "nbconvert_exporter": "python",
   "pygments_lexer": "ipython3",
   "version": "3.6.6"
  }
 },
 "nbformat": 4,
 "nbformat_minor": 2
}
